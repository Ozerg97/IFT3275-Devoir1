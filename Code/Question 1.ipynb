{
 "cells": [
  {
   "cell_type": "code",
   "execution_count": 11,
   "metadata": {},
   "outputs": [
    {
     "name": "stdout",
     "output_type": "stream",
     "text": [
      "25329033478623674471733103854802826650995\n"
     ]
    }
   ],
   "source": [
    "def racine_cubique(n):\n",
    "    debut, fin = 0, n\n",
    "    \n",
    "    while debut <= fin:\n",
    "        milieu = (debut + fin) // 2\n",
    "        cube_milieu = milieu ** 3\n",
    "        \n",
    "        if cube_milieu < n:\n",
    "            debut = milieu + 1\n",
    "        elif cube_milieu > n:\n",
    "            fin = milieu - 1\n",
    "        else:\n",
    "            return milieu  \n",
    "    \n",
    "    return fin  \n"
   ]
  },
  {
   "cell_type": "code",
   "execution_count": 12,
   "metadata": {},
   "outputs": [
    {
     "data": {
      "text/plain": [
       "'0100101001101111011100100110011101100101001000000100110001110101011010010111001100100000010000100110111101110010011001110110010101110011'"
      ]
     },
     "execution_count": 12,
     "metadata": {},
     "output_type": "execute_result"
    }
   ],
   "source": [
    "def decimal_to_binary_8bits_long(n):\n",
    "    binary_str = bin(n)[2:]\n",
    "    extra_zeros = (8 - len(binary_str) % 8) % 8\n",
    "    binary_str_8bits = '0' * extra_zeros + binary_str\n",
    "    return binary_str_8bits\n",
    "\n"
   ]
  },
  {
   "cell_type": "code",
   "execution_count": 13,
   "metadata": {},
   "outputs": [
    {
     "name": "stdout",
     "output_type": "stream",
     "text": [
      "Jorge Luis Borges\n",
      "Alain Tapp\n"
     ]
    }
   ],
   "source": [
    "########### bits tpo ascii ####################\n",
    "\n",
    "def bits_to_ascii(bits):\n",
    "    ascii_string = ''\n",
    "    \n",
    "    for i in range(0, len(bits), 8):\n",
    "        byte = bits[i:i+8]\n",
    "        byte_value = int(byte, 2)\n",
    "        ascii_string += chr(byte_value)\n",
    "    \n",
    "    return ascii_string\n"
   ]
  },
  {
   "cell_type": "code",
   "execution_count": 16,
   "metadata": {},
   "outputs": [
    {
     "name": "stdout",
     "output_type": "stream",
     "text": [
      "Jorge Luis Borges\n"
     ]
    }
   ],
   "source": [
    "C = 16250093121834914738489778721283850815023220823910545716502847730384833157965639674158854530545421681485384544525983824875\n",
    "\n",
    "M_decimal = racine_cubique(C)\n",
    "M_binaire = decimal_to_binary_8bits_long(M_decimal)\n",
    "M = bits_to_ascii(str(M_binaire))\n",
    "print(M)"
   ]
  }
 ],
 "metadata": {
  "kernelspec": {
   "display_name": "Devoir",
   "language": "python",
   "name": "python3"
  },
  "language_info": {
   "codemirror_mode": {
    "name": "ipython",
    "version": 3
   },
   "file_extension": ".py",
   "mimetype": "text/x-python",
   "name": "python",
   "nbconvert_exporter": "python",
   "pygments_lexer": "ipython3",
   "version": "3.11.8"
  }
 },
 "nbformat": 4,
 "nbformat_minor": 2
}
